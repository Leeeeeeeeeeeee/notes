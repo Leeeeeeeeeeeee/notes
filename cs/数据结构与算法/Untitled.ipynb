{
 "cells": [
  {
   "cell_type": "code",
   "execution_count": 11,
   "metadata": {},
   "outputs": [
    {
     "name": "stderr",
     "output_type": "stream",
     "text": [
      "\u001b[1minput_line_28:16:18: \u001b[0m\u001b[0;1;31merror: \u001b[0m\u001b[1mfunction definition is not allowed here\u001b[0m\n",
      "void bubbleSort(){\n",
      "\u001b[0;1;32m                 ^\n",
      "\u001b[0m"
     ]
    },
    {
     "ename": "Interpreter Error",
     "evalue": "",
     "output_type": "error",
     "traceback": [
      "Interpreter Error: "
     ]
    }
   ],
   "source": [
    "#include <iostream>\n",
    "using namespace std;\n",
    "\n",
    "int a[] = {1,2,3,5,6,7,8,9,10};\n",
    "int b[] = {2,3,4,5,9,10,12};\n",
    "\n",
    "const int size = sizeof(a)/sizeof(a[0])+sizeof(b)/sizeof(b[0]);\n",
    "\n",
    "int c[size];\n",
    "\n",
    "for(int i=0;i<sizeof(a)/sizeof(a[0]);i++){\n",
    "    c[i] = a[i];\n",
    "}\n",
    "\n",
    "for(int i=sizeof(a)/sizeof(a[0]),j=0;i<size;i++,j++ ){\n",
    "    c[i] = b[j];\n",
    "}\n",
    "\n",
    "// for(int i=0;i<size;i++){\n",
    "//     cout << to_string(c[i]) << endl ;\n",
    "// }\n",
    "\n",
    "void bubbleSort(){\n",
    "    cout << \"bubbleSort\"<<endl;\n",
    "}\n",
    "\n",
    "// cout << \"bubbleSort\" << endl;\n",
    "// // bubbleSort();\n",
    "// if(0==size%2){\n",
    "//     cout << \"中位数：\"+to_string(c[size/2-1])<< endl;\n",
    "// }else{\n",
    "    \n",
    "// }"
   ]
  },
  {
   "cell_type": "code",
   "execution_count": null,
   "metadata": {
    "collapsed": true
   },
   "outputs": [],
   "source": []
  }
 ],
 "metadata": {
  "kernelspec": {
   "display_name": "C++14",
   "language": "C++14",
   "name": "xcpp14"
  },
  "language_info": {
   "codemirror_mode": "text/x-c++src",
   "file_extension": ".cpp",
   "mimetype": "text/x-c++src",
   "name": "c++",
   "version": "14"
  }
 },
 "nbformat": 4,
 "nbformat_minor": 2
}
