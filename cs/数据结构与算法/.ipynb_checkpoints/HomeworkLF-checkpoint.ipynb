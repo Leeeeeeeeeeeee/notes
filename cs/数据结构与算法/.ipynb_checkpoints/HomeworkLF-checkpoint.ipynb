{
 "cells": [
  {
   "cell_type": "markdown",
   "metadata": {},
   "source": [
    "# 第一周\n",
    "\n",
    "算法时间测量\n",
    "1.将2.3.2节的求n皇后问题，改写成java代码。\n",
    "2.用System类的静态方法currentTimeMillis()获取当前时间换算成的毫秒数来测量算法执行时间。主义不要将打印输出的语句包含在里面。\n",
    "3.改变n值，多测几组，记录时间，直到求解比较困难为止·(例如2分钟)，然后用Excel的\"x-y散点图\"来绘制曲线，x轴为n值，y轴为执行时间。\n",
    "4.都整合到word中提交。"
   ]
  },
  {
   "cell_type": "markdown",
   "metadata": {},
   "source": [
    "# 第二周\n",
    "\n",
    "逆序数\n",
    "1.课后题3.8.3是求解逆序数，其解法在附件\"3.8.3求逆序数.docx\"中。以两个有序子序列，归并成一个有序序列为例，画出图示，说明为何能基于归并排序求解逆序数。拍照上传。\n",
    "2.查看附件中的图片，了解逆序数的应用。\n"
   ]
  },
  {
   "cell_type": "markdown",
   "metadata": {},
   "source": [
    "# 第二周\n",
    "\n",
    "小李飞环的《算法》\n",
    "分治法-快排与归并排序\n",
    "依据节3.2.1与节3.2.2的内容，就快速排序与归并排序展开实验。\n",
    "1.请给出一个数组每一轮划分的图示。\n",
    "2.参考3.2.2节的代码,分析一下代码各部分的功能,体会实现的细节。\n",
    "3.用几组数据,测量快速排序与归并排序的时间,做Excel图形放在一起,形成两条曲线。\n",
    "4.归并排序与快速排序的时间复杂度一样吗?从算法原理上看,数组元素的不同排列规律对它们有怎样的影响?"
   ]
  },
  {
   "cell_type": "markdown",
   "metadata": {},
   "source": [
    "# 第三周\n",
    "\n",
    "两个有序序列的中位数\n",
    "根据教材3.3.4节的内容，先完成\"答题\"模块的填空题。然后完成力扣\n",
    "\n",
    "4.寻找两个正序数组的中位数\n",
    "要求用3种方法分别实现，说明思想，粘贴代码、截取力扣的时间效率图到word中。若方法太慢，力扣上运行超时，也做出这样的说明。\n",
    "\n",
    "方法1:2个数组作为1个数组，排序后输出中位数。\n",
    "方法2:2个数组有序合并到另1个数组，输出中位数。\n",
    "方法3:用教材例3.2的方法,寻找中位数输出。\n"
   ]
  },
  {
   "cell_type": "markdown",
   "metadata": {},
   "source": [
    "C Kernel in jupyter notebook不需要主方法"
   ]
  },
  {
   "cell_type": "markdown",
   "metadata": {},
   "source": [
    "## 方法1：先对合并后的数组使用冒泡排序，排序后进行折半查找，寻找中位数"
   ]
  },
  {
   "cell_type": "code",
   "execution_count": 14,
   "metadata": {},
   "outputs": [
    {
     "name": "stdout",
     "output_type": "stream",
     "text": [
      "原生数组:\n",
      "[1, 2, 3, 5, 6, 7, 8, 9, 10, 2, 3, 4, 5, 9, 10, 12]\n",
      "排序后数组:\n",
      "[1, 2, 2, 3, 3, 4, 5, 5, 6, 7, 8, 9, 9, 10, 10, 12]\n",
      "中位数:\n",
      "5\n"
     ]
    }
   ],
   "source": [
    "a = [1,2,3,5,6,7,8,9,10]\n",
    "b = [2,3,4,5,9,10,12]\n",
    "\n",
    "c = a+b\n",
    "print(\"原生数组:\")\n",
    "print(c)\n",
    "\n",
    "def bubbleSort(array,start):\n",
    "    if(len(array)==start):\n",
    "        return array\n",
    "    for i in range(len(array)-start-1):\n",
    "        if(array[i]>array[i+1]):\n",
    "            temp = array[i]\n",
    "            array[i] = array[i+1]\n",
    "            array[i+1] = temp\n",
    "    return bubbleSort(array,start+1)\n",
    "\n",
    "print(\"排序后数组:\")\n",
    "print(bubbleSort(c,0))\n",
    "\n",
    "\n",
    "print(\"中位数:\")\n",
    "print(c[int(((len(c)-1)/2))])"
   ]
  },
  {
   "cell_type": "markdown",
   "metadata": {},
   "source": [
    "执行结果：\n",
    "![imgs/imgs_20220315214826.png](imgs/imgs_20220315214826.png)"
   ]
  },
  {
   "cell_type": "markdown",
   "metadata": {},
   "source": [
    "## 方法2：利用归并排序，将两个数组有序合并到另一个数组，然后输出中位数"
   ]
  },
  {
   "cell_type": "markdown",
   "metadata": {},
   "source": [
    "# 第四周\n",
    "\n",
    "小李飞环的《算法》蛮力法l\n",
    "力扣题目:\n",
    "53.最大子序和\n",
    "用教材P129页4.2.4节的算法3稍改写后提交，写明思路、复杂度、粘贴代码、运行截图。"
   ]
  },
  {
   "cell_type": "code",
   "execution_count": 12,
   "metadata": {},
   "outputs": [
    {
     "name": "stdout",
     "output_type": "stream",
     "text": [
      "23\n"
     ]
    }
   ],
   "source": [
    "nums = [5,4,-1,7,8]\n",
    "\n",
    "def maxSubSum(array,n):\n",
    "    maxSum=0\n",
    "    thisSum=0\n",
    "    for i in range(n):\n",
    "        thisSum+=array[i]\n",
    "        if(thisSum<0):\n",
    "            thisSum=0\n",
    "        if(maxSum<thisSum):\n",
    "            maxSum=thisSum\n",
    "    return maxSum\n",
    "\n",
    "if __name__ == '__main__':\n",
    "    print(maxSubSum(nums,len(nums)))"
   ]
  },
  {
   "cell_type": "markdown",
   "metadata": {},
   "source": [
    "# 第五周\n",
    "\n",
    "蛮力法2-任务分配问题\n",
    "求解任务分配问题(4.2.8节)。\n",
    "1. 任务分配依赖全排列算法(4.2.7)，教材上用模板库实现的。自己编写一个Pem函数，参考微助教课件中的全排列简洁版”。对比新算法与模板库算法在全排列(Perm函数)上的时间耗费〈不同规模多测几组)。提交Excel截图和代码，可一并放在Word中。\n",
    "\n",
    "2. 分析原始任务分配算法思路，分析时间和空间复杂度。如果利用新的全排列算法，则不需要存储那么多的全排列的结果，那么空间复杂度是o(n)吗?要有具体的分析与结果。\n"
   ]
  },
  {
   "cell_type": "code",
   "execution_count": 10,
   "metadata": {},
   "outputs": [
    {
     "ename": "TypeError",
     "evalue": "sqrt() takes exactly one argument (2 given)",
     "output_type": "error",
     "traceback": [
      "\u001b[0;31m---------------------------------------------------------------------------\u001b[0m",
      "\u001b[0;31mTypeError\u001b[0m                                 Traceback (most recent call last)",
      "\u001b[0;32m<ipython-input-10-fbe4b933116b>\u001b[0m in \u001b[0;36m<module>\u001b[0;34m()\u001b[0m\n\u001b[1;32m     11\u001b[0m \u001b[0;34m\u001b[0m\u001b[0m\n\u001b[1;32m     12\u001b[0m \u001b[0;32mif\u001b[0m \u001b[0m__name__\u001b[0m\u001b[0;34m==\u001b[0m\u001b[0;34m'__main__'\u001b[0m\u001b[0;34m:\u001b[0m\u001b[0;34m\u001b[0m\u001b[0m\n\u001b[0;32m---> 13\u001b[0;31m     \u001b[0msysPerm\u001b[0m\u001b[0;34m(\u001b[0m\u001b[0;36m5\u001b[0m\u001b[0;34m,\u001b[0m\u001b[0;36m2\u001b[0m\u001b[0;34m)\u001b[0m\u001b[0;34m\u001b[0m\u001b[0m\n\u001b[0m\u001b[1;32m     14\u001b[0m     \u001b[0msysPerm\u001b[0m\u001b[0;34m(\u001b[0m\u001b[0;36m20\u001b[0m\u001b[0;34m,\u001b[0m\u001b[0;36m7\u001b[0m\u001b[0;34m)\u001b[0m\u001b[0;34m\u001b[0m\u001b[0m\n\u001b[1;32m     15\u001b[0m     \u001b[0msysPerm\u001b[0m\u001b[0;34m(\u001b[0m\u001b[0;36m100\u001b[0m\u001b[0;34m,\u001b[0m\u001b[0;36m11\u001b[0m\u001b[0;34m)\u001b[0m\u001b[0;34m\u001b[0m\u001b[0m\n",
      "\u001b[0;32m<ipython-input-10-fbe4b933116b>\u001b[0m in \u001b[0;36msysPerm\u001b[0;34m(n, k)\u001b[0m\n\u001b[1;32m      5\u001b[0m \u001b[0;32mdef\u001b[0m \u001b[0msysPerm\u001b[0m\u001b[0;34m(\u001b[0m\u001b[0mn\u001b[0m\u001b[0;34m,\u001b[0m\u001b[0mk\u001b[0m\u001b[0;34m)\u001b[0m\u001b[0;34m:\u001b[0m\u001b[0;34m\u001b[0m\u001b[0m\n\u001b[1;32m      6\u001b[0m     \u001b[0mstarttime\u001b[0m \u001b[0;34m=\u001b[0m \u001b[0mdatetime\u001b[0m\u001b[0;34m.\u001b[0m\u001b[0mdatetime\u001b[0m\u001b[0;34m.\u001b[0m\u001b[0mnow\u001b[0m\u001b[0;34m(\u001b[0m\u001b[0;34m)\u001b[0m\u001b[0;34m\u001b[0m\u001b[0m\n\u001b[0;32m----> 7\u001b[0;31m     \u001b[0mres\u001b[0m \u001b[0;34m=\u001b[0m \u001b[0mmath\u001b[0m\u001b[0;34m.\u001b[0m\u001b[0msqrt\u001b[0m\u001b[0;34m(\u001b[0m\u001b[0mn\u001b[0m\u001b[0;34m,\u001b[0m\u001b[0mk\u001b[0m\u001b[0;34m)\u001b[0m\u001b[0;34m\u001b[0m\u001b[0m\n\u001b[0m\u001b[1;32m      8\u001b[0m     \u001b[0mendtime\u001b[0m \u001b[0;34m=\u001b[0m \u001b[0mdatetime\u001b[0m\u001b[0;34m.\u001b[0m\u001b[0mdatetime\u001b[0m\u001b[0;34m.\u001b[0m\u001b[0mnow\u001b[0m\u001b[0;34m(\u001b[0m\u001b[0;34m)\u001b[0m\u001b[0;34m\u001b[0m\u001b[0m\n\u001b[1;32m      9\u001b[0m     \u001b[0mprint\u001b[0m \u001b[0;34m(\u001b[0m\u001b[0mendtime\u001b[0m \u001b[0;34m-\u001b[0m \u001b[0mstarttime\u001b[0m\u001b[0;34m)\u001b[0m\u001b[0;34m.\u001b[0m\u001b[0mseconds\u001b[0m\u001b[0;34m\u001b[0m\u001b[0m\n",
      "\u001b[0;31mTypeError\u001b[0m: sqrt() takes exactly one argument (2 given)"
     ]
    }
   ],
   "source": [
    "# 使用模板库实现的\n",
    "import math\n",
    "import datetime\n",
    "\n",
    "def sysPerm(n,k):\n",
    "    starttime = datetime.datetime.now()\n",
    "    res = math.sqrt(n,k)\n",
    "    endtime = datetime.datetime.now()\n",
    "    print (endtime - starttime).seconds\n",
    "    return res\n",
    "    \n",
    "if __name__=='__main__':\n",
    "    sysPerm(5,2)\n",
    "    sysPerm(20,7)\n",
    "    sysPerm(100,11)"
   ]
  },
  {
   "cell_type": "markdown",
   "metadata": {},
   "source": [
    "# 第七周\n",
    "\n",
    "求幂集"
   ]
  },
  {
   "cell_type": "code",
   "execution_count": 28,
   "metadata": {},
   "outputs": [
    {
     "name": "stdout",
     "output_type": "stream",
     "text": [
      " {} {3} {32} {323} {3231} {32313} {323132} {3231323}"
     ]
    }
   ],
   "source": [
    "def dispasolution(path):\n",
    "    print(\" {\",end=\"\")\n",
    "    for i in path:\n",
    "        print(i,end=\"\")\n",
    "    print(\"}\",end=\"\")\n",
    "\n",
    "def dfs(a,n,i,path):\n",
    "    if(i==n):\n",
    "        dispasolution(path)\n",
    "        return\n",
    "    else:\n",
    "        dfs(a,n,i+1,path)\n",
    "        path.append(a[i])\n",
    "        dfs(a,n,i+1,path)\n",
    "\n",
    "if __name__=='__main__':\n",
    "    a = [1,2,3]\n",
    "    n = len(a)\n",
    "    path=[]\n",
    "    dfs(a,n,0,path)\n",
    "    "
   ]
  },
  {
   "cell_type": "code",
   "execution_count": null,
   "metadata": {},
   "outputs": [],
   "source": []
  }
 ],
 "metadata": {
  "kernelspec": {
   "display_name": "Python 3 (ipykernel)",
   "language": "python",
   "name": "python3"
  },
  "language_info": {
   "codemirror_mode": {
    "name": "ipython",
    "version": 3
   },
   "file_extension": ".py",
   "mimetype": "text/x-python",
   "name": "python",
   "nbconvert_exporter": "python",
   "pygments_lexer": "ipython3",
   "version": "3.8.0"
  }
 },
 "nbformat": 4,
 "nbformat_minor": 2
}
