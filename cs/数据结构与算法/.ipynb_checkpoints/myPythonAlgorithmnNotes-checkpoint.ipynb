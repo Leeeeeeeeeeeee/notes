{
 "cells": [
  {
   "cell_type": "markdown",
   "metadata": {},
   "source": [
    "# 求n的阶乘问题"
   ]
  },
  {
   "cell_type": "code",
   "execution_count": 13,
   "metadata": {},
   "outputs": [
    {
     "name": "stdout",
     "output_type": "stream",
     "text": [
      "6\n"
     ]
    }
   ],
   "source": [
    "def solve(n):\n",
    "    if(n<=0):\n",
    "        return -1\n",
    "    if(n==1):\n",
    "        return 1\n",
    "    else:\n",
    "        return n*solve(n-1)\n",
    "\n",
    "if __name__=='__main__':\n",
    "    print(solve(3))"
   ]
  },
  {
   "cell_type": "markdown",
   "metadata": {},
   "source": [
    "# Fibonacci数列\n",
    "Fib(1)=1\n",
    "Fib(2)=2\n",
    "Fib(n)=Fib(n-1)+Fib(n-2)"
   ]
  },
  {
   "cell_type": "code",
   "execution_count": 21,
   "metadata": {},
   "outputs": [
    {
     "name": "stdout",
     "output_type": "stream",
     "text": [
      "5\n"
     ]
    }
   ],
   "source": [
    "def fib(n):\n",
    "    if(n==1):\n",
    "        return 1\n",
    "    if(n==2):\n",
    "        return 1\n",
    "    if(n>2):\n",
    "        return fib(n-1)+fib(n-2)\n",
    "    else:\n",
    "        return -1\n",
    "    \n",
    "if __name__=='__main__':\n",
    "    print(fib(5))"
   ]
  },
  {
   "cell_type": "markdown",
   "metadata": {},
   "source": [
    "# 简单选择排序"
   ]
  },
  {
   "cell_type": "code",
   "execution_count": 35,
   "metadata": {},
   "outputs": [
    {
     "name": "stdout",
     "output_type": "stream",
     "text": [
      "[1, 2, 3, 6, 7, 8, 9, 13, 19, 20, 34]\n"
     ]
    }
   ],
   "source": [
    "list=[]\n",
    "def selectSort(array):\n",
    "    if(len(array)==0):\n",
    "        return\n",
    "    min=array[0]\n",
    "    for i in array:\n",
    "        if(i<min):\n",
    "            min=i\n",
    "    list.append(min)\n",
    "    array.remove(min)\n",
    "    selectSort(array)\n",
    "    \n",
    "if __name__=='__main__':\n",
    "    selectSort([13,2,34,7,1,9,3,6,8,19,20])\n",
    "    print(list)"
   ]
  },
  {
   "cell_type": "markdown",
   "metadata": {},
   "source": [
    "# 冒泡排序"
   ]
  },
  {
   "cell_type": "code",
   "execution_count": 48,
   "metadata": {},
   "outputs": [
    {
     "name": "stdout",
     "output_type": "stream",
     "text": [
      "[1, 2, 3, 6, 7, 8, 9, 13, 19, 20, 34]\n"
     ]
    }
   ],
   "source": [
    "def bubbleSort(array,start):\n",
    "    if(len(array)==start):\n",
    "        return array\n",
    "    for i in range(len(array)-start-1):\n",
    "        if(array[i]>array[i+1]):\n",
    "            temp = array[i]\n",
    "            array[i] = array[i+1]\n",
    "            array[i+1] = temp\n",
    "    return bubbleSort(array,start+1)\n",
    "    \n",
    "if __name__=='__main__':\n",
    "    print(bubbleSort([13,2,34,7,1,9,3,6,8,19,20],0))"
   ]
  },
  {
   "cell_type": "raw",
   "metadata": {},
   "source": [
    "\n",
    "# def void dispasolution(int n):\n",
    "#     return;\n",
    "# #测试位置是否能放置皇后\n",
    "# def bool place(int i,intj):\n",
    "#     return true\n",
    "\n",
    "# def void queen(int i,int n):\n",
    "#     if(i>n)\n",
    "#         dispasolution(n);\n",
    "#     else{\n",
    "#         for(int j<1;j<=n;j++)\n",
    "#             if(place(i,j)){\n",
    "#                 q[i]=j;\n",
    "#                 queen(i+1,n)\n",
    "#             }\n",
    "#     }\n",
    "# if __name__=='__main__':\n",
    "#     print(\"hello world\");\n",
    "\n",
    "\n",
    "class Solution:\n",
    "    def solveNQueens(self, n):\n",
    "        \"\"\"\n",
    "        :type n: int\n",
    "        :rtype: int\n",
    "        \"\"\"\n",
    "        res, q = [], [-1] * n   # cnt 用计数，q用于已经放的位置，例如q[2]=3 表示第3行的放到了第4个位置\n",
    "\n",
    "        def dfs(k, n):\n",
    "            if k == n:\n",
    "                tmp = []\n",
    "                for i in range(n):  # 输出一个结果\n",
    "                    s = ''\n",
    "                    for j in range(n):\n",
    "                        s += 'Q' if q[i] == j else '.'\n",
    "                    tmp.append(s)\n",
    "                res.append(tmp)\n",
    "            else:\n",
    "                for j in range(n):  # 一行一行的进行深度搜索\n",
    "                    if self.place(k, j, q):\n",
    "                        q[k] = j\n",
    "                        dfs(k+1, n)\n",
    "        dfs(0, n)\n",
    "        return res\n",
    "\n",
    "    def place(self, k, j, q):  # 判断该位置是否可以放一个棋子\n",
    "        for i in range(k):\n",
    "            if q[i] == j or abs(q[i]-j) == abs(i-k):  # 不同列，不同斜线\n",
    "                return 0\n",
    "        return 1\n",
    "\n",
    "\n",
    "if __name__ == '__main__':\n",
    "    solu = Solution()\n",
    "    print(solu.solveNQueens(10))"
   ]
  },
  {
   "cell_type": "markdown",
   "metadata": {},
   "source": [
    "# 某整数数组内，只有一种数出现奇数次，求这个数\n",
    "\n",
    "方法：利用异或，异或这个数组内的所有数，出现偶数次的数结果为0，出现奇数次的数结果为该数本身"
   ]
  },
  {
   "cell_type": "code",
   "execution_count": 8,
   "metadata": {},
   "outputs": [
    {
     "name": "stdout",
     "output_type": "stream",
     "text": [
      "1\n",
      "9\n",
      "10002\n"
     ]
    }
   ],
   "source": [
    "def getNum( nums):\n",
    "    eor=0\n",
    "    for i in nums:\n",
    "        eor^=i\n",
    "    return eor\n",
    "\n",
    "if __name__=='__main__':\n",
    "    a=[1,1,1,1,1,3,3,3,3,17,17]\n",
    "    print(getNum(a))\n",
    "    b=[1,1,1,1,3,4,4,3,3,9,9,9,3,17,17]\n",
    "    print(getNum(b))\n",
    "    c=[1,1,3,3,3,3,17,17,10002]\n",
    "    print(getNum(c))"
   ]
  },
  {
   "cell_type": "markdown",
   "metadata": {},
   "source": [
    "# 某整数数组内，只有两种数出现奇数次，求这两个数\n",
    "\n",
    "方法：利用异或，异或这个数组内的所有数，得到的数为a^b，此时肯定存在一位为1，这代表a或b在此位上不相同，要么为a,要么为b，找到此位，然后找到所有此位为1的数，异或这些数，所有出现偶次的数会抵消，得到的数要么为a要么为b，次数再与结果数异或得到剩下的a或b"
   ]
  },
  {
   "cell_type": "code",
   "execution_count": 22,
   "metadata": {},
   "outputs": [
    {
     "name": "stdout",
     "output_type": "stream",
     "text": [
      "21\n",
      "1\n",
      "9\n",
      "801\n",
      "None\n",
      "33\n",
      "10002\n",
      "None\n"
     ]
    }
   ],
   "source": [
    "def getNum(nums):\n",
    "    eor=0\n",
    "    for i in nums:\n",
    "        eor^=i\n",
    "    \n",
    "    rightOne = eor & (~eor + 1)#取出最右的1\n",
    "    \n",
    "    eorr=0;\n",
    "    for j in nums:\n",
    "        if((j&rightOne)==rightOne):\n",
    "            eorr^=j\n",
    "    \n",
    "    print(eorr)\n",
    "    print(eorr^eor)\n",
    "        \n",
    "if __name__=='__main__':\n",
    "    a=[1,1,1,1,1,3,3,3,3,17,17,21]\n",
    "    getNum(a)\n",
    "    b=[1,1,1,1,3,4,4,3,3,9,801,801,801,9,9,3,17,17]\n",
    "    getNum(b)\n",
    "    c=[1,1,3,3,3,3,17,17,10002,33,33,33,33,33,33,33]\n",
    "    getNum(c)\n"
   ]
  },
  {
   "cell_type": "code",
   "execution_count": null,
   "metadata": {
    "collapsed": true
   },
   "outputs": [],
   "source": [
    "归并排序"
   ]
  },
  {
   "cell_type": "code",
   "execution_count": null,
   "metadata": {
    "collapsed": true
   },
   "outputs": [],
   "source": [
    "汉诺塔问题"
   ]
  }
 ],
 "metadata": {
  "kernelspec": {
   "display_name": "Python 3",
   "language": "python",
   "name": "python3"
  },
  "language_info": {
   "codemirror_mode": {
    "name": "ipython",
    "version": 3
   },
   "file_extension": ".py",
   "mimetype": "text/x-python",
   "name": "python",
   "nbconvert_exporter": "python",
   "pygments_lexer": "ipython3",
   "version": "3.6.5"
  }
 },
 "nbformat": 4,
 "nbformat_minor": 5
}
